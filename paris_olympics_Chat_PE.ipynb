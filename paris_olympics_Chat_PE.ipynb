{
 "cells": [
  {
   "cell_type": "code",
   "execution_count": 1,
   "id": "42e13282",
   "metadata": {
    "height": 132
   },
   "outputs": [],
   "source": [
    "import openai\n",
    "import os\n",
    "\n",
    "from dotenv import load_dotenv, find_dotenv\n",
    "_ = load_dotenv(find_dotenv()) # read local .env file\n",
    "\n",
    "openai.api_key  = os.getenv('OPENAI_API_KEY')"
   ]
  },
  {
   "cell_type": "code",
   "execution_count": 7,
   "id": "c1681e37",
   "metadata": {
    "height": 166
   },
   "outputs": [],
   "source": [
    "\n",
    "def get_completion(prompt, model=\"gpt-3.5-turbo\"):\n",
    "    messages = [{\"role\": \"user\", \"content\": prompt}]\n",
    "    response = openai.chat.completions.create(\n",
    "        model=model,\n",
    "        messages=messages,\n",
    "        temperature=0, # this is the degree of randomness of the model's output\n",
    "    )\n",
    "    return response.choices[0].message.content"
   ]
  },
  {
   "cell_type": "code",
   "execution_count": 3,
   "id": "ca10546e",
   "metadata": {
    "height": 98
   },
   "outputs": [],
   "source": [
    "from llama_index import SimpleDirectoryReader\n",
    "\n",
    "documents = SimpleDirectoryReader(\n",
    "    input_files=[\"./Paris2024-QS-Athletics.txt\"]\n",
    ").load_data()"
   ]
  },
  {
   "cell_type": "code",
   "execution_count": 4,
   "id": "75e4b543",
   "metadata": {
    "height": 30
   },
   "outputs": [
    {
     "name": "stdout",
     "output_type": "stream",
     "text": [
      " EVENTS (48)\n",
      " QUOTAPLACES\n",
      " Adhere to the rules outlinedin World Athletics’Eligibility rules(Book C3.3).-\n",
      " Athletes who, whether directly or indirectly, are affiliated to, fall under the jurisdiction of or have otherwise agreed to abide by the rules and regulations of either the Russian Athletics Federation or the Belarus Athletic Federation or are citizens of and reside in Russia or Belarus are ineligible to qualifyto compete at the Olympic Games Paris 2024. C.\n",
      " ATHLETE ELIGIBILITY \n",
      " QUALIFICATION PATHWAY\n",
      " By achieving the entry standard (see section I.) within the respective qualification period outlined below. The entry standards, approved by the World Athletics Council in November 2022, have been determined in order to target the qualification of approximately 50% of the athletes. For the avoidance of doubt, any athlete achieving the entry standard will be deemed qualified, regardless of them being within the 50% or not.-\n",
      " The remaining qualification places will be allocated on the basis of the World Athletics World Rankings within the ranking period.Qualification and Ranking period-\n",
      " For all individual events (except 10,000m, Marathon, Combined Events and Race Walks): from 1July2023 –30June 2024.-\n",
      " For 10,000m, Combined Events, Race Walks and Relays: from 31December 2022 –30June 2024.-\n",
      " For the Marathon: from 6November 2022 to 5May 2024.MarathonAny athlete ranked higher than the 65thathlete on the filtered Quota Place “Road to Paris” list on 30January 2024, will be considered qualified.-\n",
      " After 30January 2024, the remaining 20% of the quota will be determined by the same twocriteria outlined above, without displacing the athletes qualified per 30January 2024.-\n",
      " Any NOC may choose to reallocate a quota place to an unqualified athlete provided the athlete in thequalification window has achieved at least a 2:11:30h (men)/2:29:30h (women) performance.  World Athletics will publish the official qualification monitoring tool (Road to Paris) on the Stats Zone of the World Athletics websitein autumn 2023. Regardless of the qualification pathway, the maximum quota per NOC per event must be respected and the number of entries per event (in section B.) cannot be exceeded.Qualification events:GeneralAll performances must be achieved during competitions organised or authorisedby World Athletics, its Area Associations or its National Federations in conformity with World Athletics Rulesand published on the World Athletics Global Calendar.Special conditions for validity of performances-\n",
      " For those Member Federations placed by World Athletics on the Results Manipulation Watchlistavailablehere, for the purpose of qualification (whether by Entry Standard or by World Rankings) to the Olympic Games Paris 2024, World Athletics will only \n",
      "o Official International or Area Championships;\n",
      "o Competitions which form part of the following International Competition structures:–       Diamond League–       Continental Tour–       World Indoor Tour–       World Race Walking Tour–       World Combined Events Tour–       World Cross Country Tour–       World Athletics Label Road Race\n",
      "o National Senior Championships subject to a specific application to be submitted to World Athletics at least 30 days in advance (competition@worldathletics.org)-\n",
      " Performances achieved in mixed competitions in track events will not be accepted. Exceptionally, in accordance with World Athletics Technical Rule 9, performances achieved in events of 5000m and 10,000m may be accepted in circumstances where there were insufficient athletes of one or both genders competing to justify the conduct of separate races and there was no pacing or assistance given by an athlete(s) of one gender to an athlete(s) of theother gender.-\n",
      " Performances which are wind-assisted or for which a wind reading is not available shall not be accepted for Entry Standard purposes (but will be valid for the World Athletics World Rankings with the appropriate adjustments).-\n",
      " Hand timing performances in 100m, 200m, 400m, 800m, 110m/100m Hurdles, 400m Hurdles and 4x100m Relay will not be accepted.-\n",
      " Indoor performances for all field events and for races of 200m and longer, will be accepted.-\n",
      " For the running events of 200m and over (including combined events), performances achieved on oversized indoor tracks shall be accepted according to Technical Rule 11.-\n",
      " For the Combined Events at least one of these conditions must be met:\n",
      "o The wind velocity in any individual event shall not exceed plus 4 metres per second.\n",
      "o The average wind velocity (based on the algebraic sum of the wind velocities, as measured for each individual event, divided by the number of such events) shall not exceed plus 2 metres per second.-\n",
      " For the 1,500m, the 5,000m and the 10,000mit is possible to achieve the entry standard   in the equivalent road running distance (road mile, 5km, 10km respectively).-\n",
      " For the 10,000m, the below applies:\n",
      "o The top 8 from the World Cross Country Ranking not directly qualified through entry standard or World 10,000m Ranking, will be considered as having achieved the entry standard.-\n",
      " For the Marathons, the below applies:\n",
      "o Performances for qualifying purposes may only be achieved on a course measured by a World Athletics /AIMS Grade “A” or “B” International Road Race Course Measurer with the measurement certificate established no more than 5 years before the date of the race.\n",
      "o For entry standards the overall decrease in elevation between the start and the finish shall not exceed 1:1000, i.e. 1m per km.\n",
      "o The following will also be considered as having achieved the Entry Standard(and listed first on the Road to Paris as at 30 January 2024):\n",
      "▪ First 5 finishers at the Platinum Label Marathons held during the period from 6November 2022 to 30 April 2024.\n",
      "o For world rankings in case of performances achieved on courses with a drop in elevation which exceeds 1:1000 a correction will be made in the result score from which points will be deducted depending onthe drop.World Athletics publishes on its websitea list of courses and competitions that comply with the above.-\n",
      " For the Race Walks, the below applies:\n",
      "o Performances for qualifying purposes may only be achieved on a course measured by a World Athletics/AIMS Grade “A” or “B” International Road Race Course Measurer with the measurement certificate established no more than 5 years before the date of the race.\n",
      "o A minimum of 3 International or Area Race Walking Judges must be on duty.\n",
      "o Track performances (20,000m) and performances achieved in competitions conducted with the penalty zone rule shall be accepted.\n",
      "o In the case of the Marathon Race Walk Mixed Relay:\n",
      "▪ The first 22 teams at the World Race Walk Team Championships Antalya 2024 shall automatically qualify for the MarathonRace WalkMixed Relayevent at the Olympic Games Paris 2024.Up to five of the first 22 teams can be a second team of the same country (NOC).\n",
      "▪ Three additional teams coming from the Marathon Race Walk Mixed Relay top performance lists in the qualification period (31 December 2022 –30 June 2024) and staged at events which comply with the Race Walking competition requirements (certified course and international judges). For the results to be valid for qualification purposes, a minimum of two international teams, representing at least two countries, must compete in the race and each athlete must walk a minimum of 20km between their two legs.These three additional teams cannot be from a country already qualified from the World Race Walk Team Championships 2024.Relay qualificationNumber of quota placesQualification eventsThere shall be a maximum of 16qualified teams in each relay eventWorld Athletics RelaysBahamas 24The first 14placed NOCs at the World Athletics Relays Bahamas 2024 shall automatically qualify for the relay eventsat Olympic Games Paris 2024.NOCs will have two opportunities to qualify at the World Athletics Relays, in case unsuccessful on day 1 another chance will be provided on day 2 of the competition.World Athletics Performance listThe remaining teams will be selected according to World Athletics performance list for relaysduring the qualification period 31December 2022 –30June 2024. For the results to be valid for qualification purposes, a minimum of two different  international  teams,  representing  at  least  two countries, must compete in the race. World Athletics will informthe NOCs ofeach of these national teams of their eligibility to compete in the Olympic Games relay competitions. \n",
      " CONFIRMATION PROCESS FOR QUOTA PLACESF.\n",
      " REALLOCATION OF UNUSED QUOTA PLACES\n",
      " they were nominated as reserve for that event at the time of the final entry deadline-\n",
      " they have achieved the entry standard or have qualified by virtue of their World Athletics World Rankings position-\n",
      " that the NOC quota for that event is respectedReserve athletes must comply with the same eligibility rules as competing athletes as described in aboveparagraph C. Athlete Eligibility.G.2.APALTERNATE ATHLETESAp alternate athletes are non-competing athletes andare not included within the athletes’ quota as described in paragraph B. QuotaPlaces.If an NOC has entered three athletes in one event, they are entitled to nominate one Ap alternate athlete for the same event provided:-\n",
      " he/she was nominated as alternate for that event at the time of the final entry deadline-\n",
      " he/she has achieved the entry standard or has qualified by virtue of the World Athletics World Rankings position Ap alternate athletes must comply with the same eligibility rules as competing athletes as described in above paragraph C. Athlete Eligibility. Ap alternate athletes can only become competing athletes as per the conditions outlined in the Late Athlete Replacement policy.G.\n",
      " GENERAL PRINCIPLES OF RESERVE AND AP ATHLETES\n",
      " QUALIFICATION TIMELINE\n",
      " The entry standards below have beenapproved by World Athletics Council in November2022.\n",
      " MenEventWomen10.00100m11.0720.16200m22.5745.00400m50.951:44.70800m1:59.303:33.50 (3:50.40)1500m(Mile)4:02.50 (4:20.90)13:05.005000m14:52.0027:00.0010,000m30:40.0013.27110m Hurdles / 100m Hurdles12.7748.70400m Hurdles54.858:15.003000m Steeplechase9:23.002.33High Jump1.975.82Pole Vault4.738.27Long Jump6.8617.22Triple Jump14.5521.50Shot Put18.8067.20Discus Throw64.5078.20Hammer Throw74.0085.50Javelin Throw64.008,460Decathlon / Heptathlon6,4801:20:1020km Race Walk1:29:202:08:10Marathon2:26:50\n",
      " I.\n",
      " ENTRY STANDARDSJ.\n",
      " \n",
      "\n"
     ]
    }
   ],
   "source": [
    "print(documents[0].text)"
   ]
  },
  {
   "cell_type": "code",
   "execution_count": 8,
   "id": "fe50116e",
   "metadata": {
    "height": 96
   },
   "outputs": [
    {
     "data": {
      "text/plain": [
       "'Reserved athletes for the Paris Olympics 2024 are those who were nominated as reserves for an event at the time of the final entry deadline and have achieved the entry standard or qualified by virtue of their World Athletics World Rankings position. These reserve athletes must comply with the same eligibility rules as competing athletes.'"
      ]
     },
     "execution_count": 8,
     "metadata": {},
     "output_type": "execute_result"
    }
   ],
   "source": [
    "prompt = \"You are a helpful assistance and you need to tell who are reserved athletics from the below Paris Olympics 2024 document.\"\n",
    "document = documents[0].text\n",
    "combined_prompt = f\"{prompt}{document}\"\n",
    "get_completion(combined_prompt)"
   ]
  },
  {
   "cell_type": "code",
   "execution_count": 10,
   "id": "4277b8ab",
   "metadata": {
    "height": 64
   },
   "outputs": [
    {
     "data": {
      "text/plain": [
       "'The document outlines the eligibility rules and qualification pathway for athletes to compete at the Olympic Games Paris 2024. Athletes must adhere to the rules set by World Athletics and achieve the entry standards within the specified qualification period. The entry standards have been approved by the World Athletics Council and approximately 50% of athletes will qualify by meeting these standards. The remaining qualification places will be allocated based on the World Athletics World Rankings. There are specific criteria for different events such as marathons, race walks, and relays. Performances must be achieved in approved competitions and meet certain conditions for validity. The document also covers the confirmation process for quota places, reallocation of unused quota places, and the nomination of alternate athletes. The timeline for qualification and the entry standards for men and women in various events are also provided.'"
      ]
     },
     "execution_count": 10,
     "metadata": {},
     "output_type": "execute_result"
    }
   ],
   "source": [
    "prompt = \"Now tell me what is the whole all about?\"\n",
    "combined_prompt = f\"{prompt}{document}\"\n",
    "get_completion(combined_prompt)"
   ]
  },
  {
   "cell_type": "code",
   "execution_count": 11,
   "id": "2c5d60b7",
   "metadata": {
    "height": 64
   },
   "outputs": [
    {
     "data": {
      "text/plain": [
       "'On 2nd July 2024, the entry standards for the Olympic Games Paris 2024 were approved by the World Athletics Council. These entry standards were set for various track and field events for both men and women, and athletes had to achieve these standards within the respective qualification period in order to qualify for the Olympics. The entry standards were determined to target the qualification of approximately 50% of the athletes, with the remaining qualification places being allocated based on the World Athletics World Rankings within the ranking period. The entry standards covered events such as the 100m, 200m, 400m, 800m, 1500m, 5000m, 10,000m, hurdles, jumps, throws, and race walks, among others. Athletes had to adhere to the rules and regulations set by World Athletics in order to qualify for the Olympic Games.'"
      ]
     },
     "execution_count": 11,
     "metadata": {},
     "output_type": "execute_result"
    }
   ],
   "source": [
    "prompt = \"What was special on 2nd July 2024?\"\n",
    "combined_prompt = f\"{prompt}{document}\"\n",
    "get_completion(combined_prompt)"
   ]
  },
  {
   "cell_type": "code",
   "execution_count": 16,
   "id": "84cafa52",
   "metadata": {
    "height": 64
   },
   "outputs": [
    {
     "data": {
      "text/plain": [
       "'- Adhere to World Athletics’ Eligibility rules (Book C3.3).\\n- Athletes from Russia or Belarus are ineligible to compete.\\n- Qualify by achieving entry standard within qualification period.\\n- Remaining places allocated based on World Rankings.\\n- Qualification period varies by event type.\\n- Marathon qualification based on ranking list.\\n- Quota places can be reallocated to unqualified athletes.\\n- Performances must be achieved in approved competitions.\\n- Special conditions for validity of performances apply.\\n- Different rules for relay events and race walks.\\n- Confirmation process for quota places must be followed.\\n- Unused quota places can be reallocated under certain conditions.\\n- Alternate athletes can be nominated for events.\\n- Entry standards approved by World Athletics Council in November 2022.'"
      ]
     },
     "execution_count": 16,
     "metadata": {},
     "output_type": "execute_result"
    }
   ],
   "source": [
    "prompt = \"Summarize the each age eligibility criteria in bullet points and each point should be in 10 words only?\"\n",
    "combined_prompt = f\"{prompt}{document}\"\n",
    "get_completion(combined_prompt)"
   ]
  }
 ],
 "metadata": {
  "kernelspec": {
   "display_name": "Python 3 (ipykernel)",
   "language": "python",
   "name": "python3"
  },
  "language_info": {
   "codemirror_mode": {
    "name": "ipython",
    "version": 3
   },
   "file_extension": ".py",
   "mimetype": "text/x-python",
   "name": "python",
   "nbconvert_exporter": "python",
   "pygments_lexer": "ipython3",
   "version": "3.10.14"
  }
 },
 "nbformat": 4,
 "nbformat_minor": 5
}
